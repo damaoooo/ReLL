{
 "cells": [
  {
   "cell_type": "code",
   "execution_count": 10,
   "id": "5d063f60",
   "metadata": {},
   "outputs": [
    {
     "data": {
      "application/vnd.jupyter.widget-view+json": {
       "model_id": "0c51c5c00e34440ca40e44feaa506003",
       "version_major": 2,
       "version_minor": 0
      },
      "text/plain": [
       "Loading dataset from disk:   0%|          | 0/20 [00:00<?, ?it/s]"
      ]
     },
     "metadata": {},
     "output_type": "display_data"
    }
   ],
   "source": [
    "import datasets\n",
    "\n",
    "jsonl_path = \"/home/damaoooo/Downloads/ReLL/data/processed_tokens\"\n",
    "\n",
    "dataset = datasets.load_from_disk(jsonl_path)\n"
   ]
  },
  {
   "cell_type": "code",
   "execution_count": 14,
   "id": "f8bd6cde",
   "metadata": {},
   "outputs": [
    {
     "name": "stdout",
     "output_type": "stream",
     "text": [
      "@func0 = external global i64\n",
      "\n",
      "define noundef nonnull ptr @func1() local_unnamed_addr #0 {\n",
      "\"@0\":\n",
      "ret ptr @func0\n",
      "}\n",
      "\n",
      "attributes #0 = { mustprogress nofree norecurse nosync nounwind willreturn memory(none) }\n"
     ]
    }
   ],
   "source": [
    "print(dataset[0]['text'])"
   ]
  },
  {
   "cell_type": "code",
   "execution_count": null,
   "id": "1bf7b16d",
   "metadata": {},
   "outputs": [],
   "source": []
  }
 ],
 "metadata": {
  "kernelspec": {
   "display_name": "ml",
   "language": "python",
   "name": "python3"
  },
  "language_info": {
   "codemirror_mode": {
    "name": "ipython",
    "version": 3
   },
   "file_extension": ".py",
   "mimetype": "text/x-python",
   "name": "python",
   "nbconvert_exporter": "python",
   "pygments_lexer": "ipython3",
   "version": "3.13.2"
  }
 },
 "nbformat": 4,
 "nbformat_minor": 5
}
